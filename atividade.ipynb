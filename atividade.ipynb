{
 "cells": [
  {
   "cell_type": "raw",
   "metadata": {},
   "source": [
    "Descrição do trabalho Compilador de Pascal\n",
    "- [x] Desenvolvimento de um analisador Léxico\n",
    "    - [x] Ler todas as palavras do arquivo\n",
    "    - [x] Veirificar se a palavra está presente na lista de tokens do arquivo tokens.txt\n",
    "    - [x] Criar uma lista de tuplas que armazena token, lexema, linha coluna de cada palavra (token é o que é e lexema é o nome)\n",
    "    - [x] Veirificar se todos os () [] {} estão fechados (Retornar o exept caso não esteja)\n",
    "    - [x] Retornar essa no arquivo lista_lexica.txt\n",
    "    - [x] Veirificar se existem comentarios, strings e palavras reservadas\n",
    "- [] Desenvolvimento de um analisador Sintático\n",
    "    - [] Criar um leitor da gramatica regular\n",
    "    - [] Criar uma função de consumo que verifica se a linha atual da lista lexica está na regra atual da gramatica\n",
    "    - [] Caso nao esteja fora da gramatica retornar o exept na linaha e a palavra"
   ]
  },
  {
   "cell_type": "code",
   "execution_count": 3,
   "metadata": {},
   "outputs": [
    {
     "name": "stdout",
     "output_type": "stream",
     "text": [
      "Todos os parênteses, colchetes e chaves estão balanceados.\n"
     ]
    }
   ],
   "source": [
    "import re\n",
    "\n",
    "def ler_arquivo(nome_arquivo):\n",
    "    with open(nome_arquivo, 'r') as arquivo:\n",
    "        return arquivo.readlines()\n",
    "\n",
    "def ler_tokens(nome_arquivo_tokens):\n",
    "    with open(nome_arquivo_tokens, 'r') as arquivo_tokens:\n",
    "        return arquivo_tokens.readlines()\n",
    "\n",
    "def verificar_tokens(palavra_tkn, lista_tokens):\n",
    "    linha_atual = 0\n",
    "    for linha in lista_tokens:\n",
    "        linha_atual += 1\n",
    "        coluna_atual = 0\n",
    "        palavras = re.findall(r'\\w+|\\S', linha)\n",
    "        for palavra in palavras:\n",
    "            coluna_atual = linha.find(palavra, coluna_atual)\n",
    "            if palavra_tkn == palavra:\n",
    "                return linha_atual, True\n",
    "            coluna_atual += len(palavra)\n",
    "    return linha_atual, False\n",
    "\n",
    "def encontrar_tokens(arquivo, lista_tokens):\n",
    "    tokens_encontrados = []\n",
    "    linha_atual = 0\n",
    "    for linha in arquivo:\n",
    "        linha_atual += 1\n",
    "        coluna_atual = 0\n",
    "        palavras = re.findall(r'\\w+|\\S', linha)\n",
    "        if '//' in linha:\n",
    "            pass\n",
    "        else:\n",
    "            if '\"' in palavras or \"'\" in palavras:\n",
    "                intervalos_aspas = []\n",
    "                aspas_abertas = False\n",
    "                for i, palavra in enumerate(palavras):\n",
    "                    if '\"' in palavra or \"'\" in palavra and aspas_abertas:\n",
    "                        intervalos_aspas.append(i)\n",
    "                        tokens_encontrados.append((44, palavras[intervalos_aspas[0]:intervalos_aspas[1]], linha_atual, coluna_atual))\n",
    "                        intervalos_aspas = []\n",
    "                        aspas_abertas = False\n",
    "                    elif '\"' in palavra or \"'\" in palavra:\n",
    "                        intervalos_aspas.append(i)\n",
    "                        aspas_abertas = True\n",
    "            else:\n",
    "                for palavra in palavras:\n",
    "                    coluna_atual = linha.find(palavra, coluna_atual)\n",
    "                    token_linha, is_token = verificar_tokens(palavra, lista_tokens)\n",
    "                    if is_token:\n",
    "                        tokens_encontrados.append((token_linha, palavra, linha_atual, coluna_atual))\n",
    "                    else:\n",
    "                        tokens_encontrados.append((45, palavra, linha_atual, coluna_atual))\n",
    "                    coluna_atual += len(palavra)\n",
    "    return tokens_encontrados\n",
    "\n",
    "def verificar_balanceamento_parentheses(arquivo):\n",
    "    abre_fecha = {'(': ')', '[': ']', '{': '}'}\n",
    "    pilha = []\n",
    "    for linha_num, linha in enumerate(arquivo, start=1):\n",
    "        for coluna_num, char in enumerate(linha, start=1):\n",
    "            if char in abre_fecha.keys():\n",
    "                pilha.append((char, linha_num, coluna_num))\n",
    "            elif char in abre_fecha.values():\n",
    "                if not pilha or abre_fecha[pilha.pop()[0]] != char:\n",
    "                    return False, (linha_num, coluna_num)\n",
    "    return not pilha, None\n",
    "\n",
    "def main(nome_arquivo):\n",
    "    nome_arquivo_tokens = 'tokens.txt'\n",
    "\n",
    "    arquivo = ler_arquivo(nome_arquivo)\n",
    "    lista_tokens = ler_tokens(nome_arquivo_tokens)\n",
    "\n",
    "    tokens_encontrados = encontrar_tokens(arquivo, lista_tokens)\n",
    "\n",
    "    with open('lista_lexica.txt', 'w') as lista_lexica:\n",
    "        for token_linha, lexima, linha, coluna in tokens_encontrados:\n",
    "            lista_lexica.write(f'{token_linha}, {lexima}, {linha}, {coluna}\\n')\n",
    "\n",
    "    balanceado, pos = verificar_balanceamento_parentheses(arquivo)\n",
    "    if balanceado:\n",
    "        print(\"Todos os parênteses, colchetes e chaves estão balanceados.\")\n",
    "    else:\n",
    "        print(f\"Erro de balanceamento na linha {pos[0]}, coluna {pos[1]}.\")\n",
    "\n",
    "if __name__ == \"__main__\":\n",
    "    main('./teste.pas')\n",
    "\n"
   ]
  },
  {
   "cell_type": "code",
   "execution_count": null,
   "metadata": {},
   "outputs": [],
   "source": []
  }
 ],
 "metadata": {
  "kernelspec": {
   "display_name": "Python 3.9.9 64-bit",
   "language": "python",
   "name": "python3"
  },
  "language_info": {
   "codemirror_mode": {
    "name": "ipython",
    "version": 3
   },
   "file_extension": ".py",
   "mimetype": "text/x-python",
   "name": "python",
   "nbconvert_exporter": "python",
   "pygments_lexer": "ipython3",
   "version": "3.9.9"
  },
  "orig_nbformat": 4,
  "vscode": {
   "interpreter": {
    "hash": "29b41be08ea682c55cd458bc012a5d9c5f458b55dc3c5a5d6695906a14e11017"
   }
  }
 },
 "nbformat": 4,
 "nbformat_minor": 2
}
